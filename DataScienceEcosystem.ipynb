{
  "metadata": {
    "kernelspec": {
      "name": "xpython",
      "display_name": "Python 3.13 (XPython)",
      "language": "python"
    },
    "language_info": {
      "file_extension": ".py",
      "mimetype": "text/x-python",
      "name": "python",
      "version": "3.13.1"
    }
  },
  "nbformat_minor": 5,
  "nbformat": 4,
  "cells": [
    {
      "id": "20b23ad7-e034-4221-b312-35a1430b6259",
      "cell_type": "markdown",
      "source": "# Data Science Tools and Ecosystem",
      "metadata": {}
    },
    {
      "id": "9bbe3add-7362-411a-bba6-bdaad7c223b7",
      "cell_type": "markdown",
      "source": "In this notebook, Data Science Tools and Ecosystem are summarized.",
      "metadata": {}
    },
    {
      "id": "af0d9a3d-0b70-498f-be94-b25f37f2effa",
      "cell_type": "markdown",
      "source": "**Objectives:**\n\n* List popular languages for Data Science\n* List popular libraries for Data Science\n* List popular tools for Data Science\n* Evaluate arithmatic expressions using Python",
      "metadata": {}
    },
    {
      "id": "35941dd5-f323-4648-9343-bae7e5d52e8a",
      "cell_type": "markdown",
      "source": "Some of the popular languages that Data Scientists use are:\n\n1. Python\n2. R\n3. SQL\n4. Julia\n5. Java",
      "metadata": {}
    },
    {
      "id": "d67a2fa5-2fc4-43ba-9182-72c54c11a6ad",
      "cell_type": "markdown",
      "source": "Some of the commonly used libraries used by Data Scientists include:\n\n1. Numpy\n2. Pandas\n3. Keras\n4. PyTorch\n5. Sci-kit Learn",
      "metadata": {}
    },
    {
      "id": "1988e3a7-8f76-4aa9-92eb-d176509cea96",
      "cell_type": "markdown",
      "source": "| Data Science Tools |\n| ------------------ |\n| Jupyter Notebook |\n| RStudio |\n| VS Code |",
      "metadata": {}
    },
    {
      "id": "15a91692-78ac-489d-8817-32042830a5bf",
      "cell_type": "markdown",
      "source": "### Below are a few examples of evaluating arithmetic expressions in Python",
      "metadata": {}
    },
    {
      "id": "61cbfd87-56d1-41f6-995c-cd03014503b5",
      "cell_type": "code",
      "source": "#This a simple arithmetic expression to mutiply then add integers\n\n(3*4)+5",
      "metadata": {
        "trusted": true
      },
      "outputs": [
        {
          "execution_count": 1,
          "output_type": "execute_result",
          "data": {
            "text/plain": "17"
          },
          "metadata": {}
        }
      ],
      "execution_count": 1
    },
    {
      "id": "ba0d254f-295c-478e-92f1-22a0e669fb9b",
      "cell_type": "code",
      "source": "#This will convert 200 minutes to hours by diving by 60\n\nhrs = 200/60\nprint(hrs)",
      "metadata": {
        "trusted": true
      },
      "outputs": [
        {
          "name": "stdout",
          "output_type": "stream",
          "text": "3.3333333333333335\n"
        }
      ],
      "execution_count": 3
    },
    {
      "id": "91fdf953-269e-4e24-b47f-a9fe35b7676b",
      "cell_type": "markdown",
      "source": "## Author\nAviral Goyal",
      "metadata": {}
    },
    {
      "id": "dcad5bfc-3ed7-4b58-923b-bad3d2455431",
      "cell_type": "code",
      "source": "",
      "metadata": {
        "trusted": true
      },
      "outputs": [],
      "execution_count": null
    }
  ]
}